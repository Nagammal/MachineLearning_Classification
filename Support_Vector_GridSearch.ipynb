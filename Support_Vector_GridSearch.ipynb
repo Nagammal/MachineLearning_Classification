{
 "cells": [
  {
   "cell_type": "code",
   "execution_count": 9,
   "id": "038292a6-1030-4291-872e-725c2ce99601",
   "metadata": {},
   "outputs": [],
   "source": [
    "# Process Name : Data Collection & Data Preprocessing.pandas is a python library which is used for data handling and transformation\n",
    "import pandas as pd \n",
    "data=pd.read_csv(\"Social_Network_Ads.csv\") #read_csv is a fucntion inside pandas which will read/load the comma separated data."
   ]
  },
  {
   "cell_type": "code",
   "execution_count": 10,
   "id": "cd381483-4079-4414-87b4-3714cf32e23b",
   "metadata": {},
   "outputs": [],
   "source": [
    "data=data.drop(\"User ID\",axis=1)\n",
    "data=pd.get_dummies(data,drop_first=True)"
   ]
  },
  {
   "cell_type": "code",
   "execution_count": 11,
   "id": "d12ed877-4e66-4ccb-9ff0-c8944f32cf62",
   "metadata": {},
   "outputs": [
    {
     "name": "stdout",
     "output_type": "stream",
     "text": [
      "Purchased\n",
      "0    257\n",
      "1    143\n",
      "Name: count, dtype: int64\n",
      "The dataset is imbalanced.\n"
     ]
    }
   ],
   "source": [
    "value_counts=data['Purchased'].value_counts()\n",
    "print(value_counts)\n",
    "if value_counts.nunique() == 1:\n",
    "    print(\"The dataset is balanced.\")\n",
    "else:\n",
    "    print(\"The dataset is imbalanced.\")\n"
   ]
  },
  {
   "cell_type": "code",
   "execution_count": 12,
   "id": "fb9c8042-1564-4e39-9127-e0cc4214a460",
   "metadata": {},
   "outputs": [],
   "source": [
    "#Process Name : Input Output Split\n",
    "independent=data[['Gender_Male', 'Age', 'EstimatedSalary']] #Assigning the dataset column to independent which is input\n",
    "dependent=data[['Purchased']]#Assigning the dataset column to dependent which is output/target"
   ]
  },
  {
   "cell_type": "code",
   "execution_count": 13,
   "id": "7db3814f-0e07-4cbd-abb7-ff5356edd3aa",
   "metadata": {},
   "outputs": [],
   "source": [
    "#Process Name : Train Test Split\n",
    "from sklearn.model_selection import train_test_split #sklearn is a library where all ML algorithms are present.Here we are importing function called train_test_split\n",
    "X_train,X_test,Y_train,Y_test=train_test_split(independent, dependent, test_size=0.3, random_state=0) #Splitting the dataset in to test and train.test set being 30%(0.3)"
   ]
  },
  {
   "cell_type": "markdown",
   "id": "3ea1abcf-cfb6-46ae-820a-c4482a87a18b",
   "metadata": {},
   "source": [
    "Support Vector Classifier Grid Search"
   ]
  },
  {
   "cell_type": "code",
   "execution_count": null,
   "id": "41605284-56b4-4864-af3d-7bbbc894151a",
   "metadata": {},
   "outputs": [
    {
     "name": "stdout",
     "output_type": "stream",
     "text": [
      "Fitting 5 folds for each of 4 candidates, totalling 20 fits\n"
     ]
    }
   ],
   "source": [
    "from sklearn.svm import SVC\n",
    "from sklearn.model_selection import RandomizedSearchCV\n",
    "from sklearn.model_selection import GridSearchCV\n",
    "\n",
    "param_dist  = {  \n",
    "               'C':[1,10],    \n",
    "               'kernel':['linear','rbf'],\n",
    "               'gamma':['scale','auto']\n",
    "             } \n",
    "Model = RandomizedSearchCV(SVC(),param_distributions=param_dist,n_iter=4,cv=5,scoring='f1_weighted',verbose=3,n_jobs=-1,random_state=42)\n",
    "#Model = GridSearchCV(SVC(), param_grid, refit = True, verbose = 3,n_jobs=-1,scoring='f1_weighted',cv=5)\n",
    "Model.fit(X_train,Y_train)"
   ]
  },
  {
   "cell_type": "code",
   "execution_count": null,
   "id": "21a5289a-7559-4eff-be77-54f26e5e948c",
   "metadata": {},
   "outputs": [],
   "source": [
    "#Process Name : Prediction\n",
    "Y_predicted=Model.predict(X_test)\n",
    "Y_predicted"
   ]
  },
  {
   "cell_type": "code",
   "execution_count": null,
   "id": "35fcae37-c38c-4cd1-a6a6-fe982150384d",
   "metadata": {},
   "outputs": [],
   "source": [
    "#Process Name : Evaluation metrics\n",
    "from sklearn.metrics import confusion_matrix  #confusion_matrix fucntion in sklearn is used to evaluate model\n",
    "cm=confusion_matrix(Y_test,Y_predicted)\n",
    "print(cm)\n",
    "\n",
    "from sklearn.metrics import classification_report  #confusion_matrix fucntion in sklearn is used to evaluate model\n",
    "clf_report=classification_report(Y_test,Y_predicted)\n",
    "print(clf_report)\n",
    "\n",
    "from sklearn.metrics import roc_auc_score\n",
    "roc_curve=roc_auc_score(Y_test,Model.predict_proba(X_test)[:,1])\n",
    "print(\"The roc curve of the model for best parameter {}:\".format(Model.best_params_),roc_curve)\n",
    "\n",
    "from sklearn.metrics import accuracy_score\n",
    "accuracy=accuracy_score(Y_test,Y_predicted)\n",
    "print(\"The accuracy of the model for best parameter {}:\".format(Model.best_params_),accuracy)"
   ]
  },
  {
   "cell_type": "code",
   "execution_count": null,
   "id": "c3929878-8b49-4c47-9d58-20853466c168",
   "metadata": {},
   "outputs": [],
   "source": [
    "re=Model.cv_results_\n",
    "table=pd.DataFrame.from_dict(re)\n",
    "table"
   ]
  },
  {
   "cell_type": "code",
   "execution_count": null,
   "id": "933ea101-1d8e-42ae-ad18-c62940153bbd",
   "metadata": {},
   "outputs": [],
   "source": [
    "#Process Name : Saving the model\n",
    "import pickle \n",
    "filename=\"support_vector_classifier_grid_model.sav\"  #model is saved in the filename\n",
    "pickle.dump(Model,open(filename,'wb')) #assigning the model to this file given as write binary\n"
   ]
  },
  {
   "cell_type": "markdown",
   "id": "8893cc4a-bed5-4e33-86f3-8c3c35a7f59a",
   "metadata": {},
   "source": [
    "Get User Input and Run prediction"
   ]
  },
  {
   "cell_type": "code",
   "execution_count": null,
   "id": "51657b02-2e57-4dcf-b6d7-1d28f888bf48",
   "metadata": {},
   "outputs": [],
   "source": [
    "age_user=float(input(\"Age:\"))\n",
    "estimated_salary_user=float(input(\"Salary:\"))\n",
    "gender_male_user=int(input(\"Sex Male 0 or 1:\"))\n",
    "\n",
    "User_Prediction=Model.predict([[age_user,estimated_salary_user,gender_male_user]])# change the paramter,play with it.\n",
    "print(\"User_Prediction={}\".format(User_Prediction))\n",
    "if (User_Prediction==1):\n",
    "    print(\"The user will purchase\")\n",
    "else:\n",
    "    print(\"The user will not purchase\")\n",
    " "
   ]
  },
  {
   "cell_type": "code",
   "execution_count": null,
   "id": "f77c44de-fce7-4879-a2c4-fdcd380464b8",
   "metadata": {},
   "outputs": [],
   "source": []
  }
 ],
 "metadata": {
  "kernelspec": {
   "display_name": "Python 3 (ipykernel)",
   "language": "python",
   "name": "python3"
  },
  "language_info": {
   "codemirror_mode": {
    "name": "ipython",
    "version": 3
   },
   "file_extension": ".py",
   "mimetype": "text/x-python",
   "name": "python",
   "nbconvert_exporter": "python",
   "pygments_lexer": "ipython3",
   "version": "3.12.7"
  }
 },
 "nbformat": 4,
 "nbformat_minor": 5
}
